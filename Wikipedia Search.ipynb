{
 "cells": [
  {
   "cell_type": "code",
   "execution_count": 2,
   "metadata": {},
   "outputs": [],
   "source": [
    "# This notebook is about searhing on wikipedia with Mediawiki API search. \n",
    "import time\n",
    "import json\n",
    "import requests"
   ]
  },
  {
   "cell_type": "code",
   "execution_count": 3,
   "metadata": {},
   "outputs": [
    {
     "data": {
      "text/plain": [
       "'<?xml version=\"1.0\"?><api batchcomplete=\"\"><continue sroffset=\"5\" continue=\"-||\" /><query><searchinfo totalhits=\"27766\" /><search><p ns=\"0\" title=\"Matrix\" pageid=\"18884\" size=\"4828\" wordcount=\"589\" snippet=\"&lt;span class=&quot;searchmatch&quot;&gt;Matrix&lt;/span&gt; or &lt;span class=&quot;searchmatch&quot;&gt;MATRIX&lt;/span&gt; may refer to: &lt;span class=&quot;searchmatch&quot;&gt;Matrix&lt;/span&gt; (mathematics), a rectangular array of numbers, symbols, or expressions &lt;span class=&quot;searchmatch&quot;&gt;Matrix&lt;/span&gt; (logic), part of a formula in prenex\" timestamp=\"2020-10-01T11:43:29Z\" /><p ns=\"0\" title=\"The Matrix\" pageid=\"30007\" size=\"128512\" wordcount=\"13472\" snippet=\"The &lt;span class=&quot;searchmatch&quot;&gt;Matrix&lt;/span&gt; is a 1999 American science fiction action film written and directed by the Wachowskis, and produced by Joel Silver. It stars Keanu Reeves, Laurence\" timestamp=\"2021-01-12T18:26:21Z\" /><p ns=\"0\" title=\"The Matrix (franchise)\" pageid=\"376228\" size=\"76295\" wordcount=\"6292\" snippet=\"fiction action films beginning with The &lt;span class=&quot;searchmatch&quot;&gt;Matrix&lt;/span&gt; (1999) and continuing with two sequels, The &lt;span class=&quot;searchmatch&quot;&gt;Matrix&lt;/span&gt; Reloaded and The &lt;span class=&quot;searchmatch&quot;&gt;Matrix&lt;/span&gt; Revolutions (both in 2003), all written\" timestamp=\"2021-01-08T03:07:52Z\" /><p ns=\"0\" title=\"Matrix (mathematics)\" pageid=\"20556859\" size=\"109425\" wordcount=\"12506\" snippet=\"In mathematics, a &lt;span class=&quot;searchmatch&quot;&gt;matrix&lt;/span&gt; (plural matrices) is a rectangular array or table of numbers, symbols, or expressions, arranged in rows and columns. For example\" timestamp=\"2020-12-12T03:08:24Z\" /><p ns=\"0\" title=\"Matrix multiplication\" pageid=\"125280\" size=\"42918\" wordcount=\"6545\" snippet=\"columns in the first &lt;span class=&quot;searchmatch&quot;&gt;matrix&lt;/span&gt; must be equal to the number of rows in the second &lt;span class=&quot;searchmatch&quot;&gt;matrix&lt;/span&gt;. The resulting &lt;span class=&quot;searchmatch&quot;&gt;matrix&lt;/span&gt;, known as the &lt;span class=&quot;searchmatch&quot;&gt;matrix&lt;/span&gt; product, has the number\" timestamp=\"2021-01-12T11:41:38Z\" /></search></query></api>'"
      ]
     },
     "execution_count": 3,
     "metadata": {},
     "output_type": "execute_result"
    }
   ],
   "source": [
    "def wikimedia_request(search_term):\n",
    "  \"\"\"search for content on wikipedia pages\n",
    "  Args:\n",
    "      search_term (string)\n",
    "  \"\"\"\n",
    "  S = requests.Session()\n",
    "\n",
    "  URL = \"https://en.wikipedia.org/w/api.php\"\n",
    "\n",
    "  # SEARCHPAGE = \"matrix\"\n",
    "\n",
    "  PARAMS = {\n",
    "      \"action\": \"query\",\n",
    "      \"format\": \"xml\",\n",
    "      \"list\": \"search\",\n",
    "      \"srsearch\": search_term,\n",
    "      \"srlimit\": 5\n",
    "  }\n",
    "  R = S.get(url=URL, params=PARAMS)\n",
    "  return R.text\n",
    "\n",
    "wikimedia_request('matrix')"
   ]
  },
  {
   "cell_type": "code",
   "execution_count": null,
   "metadata": {},
   "outputs": [],
   "source": [
    "# now apply DTD"
   ]
  }
 ],
 "metadata": {
  "kernelspec": {
   "display_name": "Python 3",
   "language": "python",
   "name": "python3"
  },
  "language_info": {
   "codemirror_mode": {
    "name": "ipython",
    "version": 3
   },
   "file_extension": ".py",
   "mimetype": "text/x-python",
   "name": "python",
   "nbconvert_exporter": "python",
   "pygments_lexer": "ipython3",
   "version": "3.8.3"
  }
 },
 "nbformat": 4,
 "nbformat_minor": 4
}
